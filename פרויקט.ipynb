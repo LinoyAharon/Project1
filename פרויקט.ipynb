{
 "cells": [
  {
   "cell_type": "markdown",
   "id": "51b245dc-b558-46dc-a7d5-27fc3d07a51f",
   "metadata": {},
   "source": [
    "# DA Final project:\n",
    "\n",
    "# Group 29\n",
    "\n",
    "# Mental health in the pregnancy during the COVID-19\n",
    "\n",
    "###  Name of students:\n",
    "Shir cohen<br>\n",
    "Linoy Aharon<br>\n",
    "Evia Avihai<br>\n",
    "\n",
    "<a id='top'></a>\n",
    "\n",
    "<div>\n",
    "<img src=https://github.com/LinoyAharon/Project1/blob/main/Pregnancy%20and%20COVID-19.jpg?raw=true\n",
    "</div>"
   ]
  },
  {
   "cell_type": "code",
   "execution_count": 1,
   "id": "00f9de31-4f8a-4826-9f2d-958c3fddf63d",
   "metadata": {},
   "outputs": [],
   "source": [
    "#!pip install geopandas\n",
    "#!pip install folium\n",
    "import pandas as pd\n",
    "import seaborn as sns\n",
    "import matplotlib.pyplot as plt\n",
    "import numpy as np\n",
    "import requests\n",
    "from IPython.display import Image\n"
   ]
  },
  {
   "cell_type": "markdown",
   "id": "b01bc36e-6024-45c5-b966-2390d289fa0c",
   "metadata": {},
   "source": [
    "#### Information on the data\n",
    "The target of our project is to Mental health in the pregnancy during the COVID-19. <br>taken from [Kaggle](https://www.kaggle.com/datasets/yeganehbavafa/mental-health-in-the-pregnancy-during-the-covid-19/data?select=Pregnancy+During+the+COVID-19+Pandemic.csv)"
   ]
  },
  {
   "cell_type": "markdown",
   "id": "ae012737-1abb-4364-b45e-b05a405814f3",
   "metadata": {
    "tags": []
   },
   "source": [
    "url1 = 'https://raw.githubusercontent.com/LinoyAharon/Project1/main/test.csv'\n",
    "TEST_DF = pd.read_csv(url1)\n",
    "TEST_DF.shape"
   ]
  },
  {
   "cell_type": "code",
   "execution_count": 10,
   "id": "c6f7838f-0778-4220-9f7f-72767dc64e39",
   "metadata": {
    "tags": []
   },
   "outputs": [
    {
     "data": {
      "text/plain": [
       "Index(['Id', 'MSSubClass', 'MSZoning', 'LotFrontage', 'LotArea', 'Street',\n",
       "       'Alley', 'LotShape', 'LandContour', 'Utilities', 'LotConfig',\n",
       "       'LandSlope', 'Neighborhood', 'Condition1', 'Condition2', 'BldgType',\n",
       "       'HouseStyle', 'OverallQual', 'OverallCond', 'YearBuilt', 'YearRemodAdd',\n",
       "       'RoofStyle', 'RoofMatl', 'Exterior1st', 'Exterior2nd', 'MasVnrType',\n",
       "       'MasVnrArea', 'ExterQual', 'ExterCond', 'Foundation', 'BsmtQual',\n",
       "       'BsmtCond', 'BsmtExposure', 'BsmtFinType1', 'BsmtFinSF1',\n",
       "       'BsmtFinType2', 'BsmtFinSF2', 'BsmtUnfSF', 'TotalBsmtSF', 'Heating',\n",
       "       'HeatingQC', 'CentralAir', 'Electrical', '1stFlrSF', '2ndFlrSF',\n",
       "       'LowQualFinSF', 'GrLivArea', 'BsmtFullBath', 'BsmtHalfBath', 'FullBath',\n",
       "       'HalfBath', 'BedroomAbvGr', 'KitchenAbvGr', 'KitchenQual',\n",
       "       'TotRmsAbvGrd', 'Functional', 'Fireplaces', 'FireplaceQu', 'GarageType',\n",
       "       'GarageYrBlt', 'GarageFinish', 'GarageCars', 'GarageArea', 'GarageQual',\n",
       "       'GarageCond', 'PavedDrive', 'WoodDeckSF', 'OpenPorchSF',\n",
       "       'EnclosedPorch', '3SsnPorch', 'ScreenPorch', 'PoolArea', 'PoolQC',\n",
       "       'Fence', 'MiscFeature', 'MiscVal', 'MoSold', 'YrSold', 'SaleType',\n",
       "       'SaleCondition'],\n",
       "      dtype='object')"
      ]
     },
     "execution_count": 10,
     "metadata": {},
     "output_type": "execute_result"
    }
   ],
   "source": [
    "TEST_DF.columns"
   ]
  },
  {
   "cell_type": "code",
   "execution_count": null,
   "id": "bdc4770f-561d-467f-8f4e-8c222fae488a",
   "metadata": {},
   "outputs": [],
   "source": []
  }
 ],
 "metadata": {
  "kernelspec": {
   "display_name": "Python 3 (ipykernel)",
   "language": "python",
   "name": "python3"
  },
  "language_info": {
   "codemirror_mode": {
    "name": "ipython",
    "version": 3
   },
   "file_extension": ".py",
   "mimetype": "text/x-python",
   "name": "python",
   "nbconvert_exporter": "python",
   "pygments_lexer": "ipython3",
   "version": "3.11.5"
  }
 },
 "nbformat": 4,
 "nbformat_minor": 5
}
